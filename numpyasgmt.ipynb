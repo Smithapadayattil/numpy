{
 "cells": [
  {
   "cell_type": "code",
   "execution_count": 1,
   "id": "4eddd04d-d8df-4429-b261-f2c576030c02",
   "metadata": {},
   "outputs": [],
   "source": [
    "import numpy as np"
   ]
  },
  {
   "cell_type": "code",
   "execution_count": 8,
   "id": "70e5dbfe-eee6-490f-ba3a-4a29aacca100",
   "metadata": {},
   "outputs": [],
   "source": [
    "a1=np.array([1,2,3,4,5])\n",
    "b1=np.array([6,7,8,9,10])\n"
   ]
  },
  {
   "cell_type": "code",
   "execution_count": 9,
   "id": "421b5c7b-4a4a-4c2b-9d9c-92dc32712b3f",
   "metadata": {},
   "outputs": [
    {
     "data": {
      "text/plain": [
       "15"
      ]
     },
     "execution_count": 9,
     "metadata": {},
     "output_type": "execute_result"
    }
   ],
   "source": [
    "#horizontal sum\n",
    "a1.sum()\n"
   ]
  },
  {
   "cell_type": "code",
   "execution_count": 10,
   "id": "27b8d39a-3544-45f0-a532-da076acb750e",
   "metadata": {},
   "outputs": [
    {
     "data": {
      "text/plain": [
       "40"
      ]
     },
     "execution_count": 10,
     "metadata": {},
     "output_type": "execute_result"
    }
   ],
   "source": [
    "b1.sum()"
   ]
  },
  {
   "cell_type": "code",
   "execution_count": 29,
   "id": "368d7dfb-f791-4d53-96f6-50c88ff24956",
   "metadata": {},
   "outputs": [
    {
     "data": {
      "text/plain": [
       "array([[11, 12, 13, 14, 15],\n",
       "       [16, 17, 18, 19, 20],\n",
       "       [55, 56, 57, 58, 59]])"
      ]
     },
     "execution_count": 29,
     "metadata": {},
     "output_type": "execute_result"
    }
   ],
   "source": [
    "a2=np.array([[11,12,13,14,15],[16,17,18,19,20],[55,56,57,58,59]])\n",
    "a2"
   ]
  },
  {
   "cell_type": "code",
   "execution_count": 16,
   "id": "ec42d89a-00d7-4867-b383-cb5d6b688dc3",
   "metadata": {},
   "outputs": [
    {
     "data": {
      "text/plain": [
       "155"
      ]
     },
     "execution_count": 16,
     "metadata": {},
     "output_type": "execute_result"
    }
   ],
   "source": [
    "ADD horizontally\n",
    "a2.sum()"
   ]
  },
  {
   "cell_type": "code",
   "execution_count": 17,
   "id": "bc468649-5319-4485-9864-057d277a34df",
   "metadata": {},
   "outputs": [
    {
     "data": {
      "text/plain": [
       "array([27, 29, 31, 33, 35])"
      ]
     },
     "execution_count": 17,
     "metadata": {},
     "output_type": "execute_result"
    }
   ],
   "source": [
    "#ADD vertically\n",
    "a2.sum(axis=0)"
   ]
  },
  {
   "cell_type": "code",
   "execution_count": 15,
   "id": "283f1ec5-013a-423e-a2f0-b3ec17a408c7",
   "metadata": {},
   "outputs": [
    {
     "data": {
      "text/plain": [
       "array([[21, 22, 23, 24, 25],\n",
       "       [26, 27, 28, 29, 30],\n",
       "       [31, 32, 33, 34, 35]])"
      ]
     },
     "execution_count": 15,
     "metadata": {},
     "output_type": "execute_result"
    }
   ],
   "source": [
    "#task 2\n",
    "b2=np.array([[21,22,23,24,25],[26,27,28,29,30],[31,32,33,34,35]])\n",
    "b2"
   ]
  },
  {
   "cell_type": "code",
   "execution_count": 23,
   "id": "5e17d41c-85d9-4c70-81c0-5f4be9cde515",
   "metadata": {},
   "outputs": [
    {
     "name": "stdout",
     "output_type": "stream",
     "text": [
      "[[ True  True  True  True  True]\n",
      " [ True  True False False False]\n",
      " [False False False False False]]\n",
      "[21 22 23 24 25 26 27]\n"
     ]
    }
   ],
   "source": [
    "condition=b2<28\n",
    "print(condition)\n",
    "less_than=b2[condition]\n",
    "print(less_than)"
   ]
  },
  {
   "cell_type": "code",
   "execution_count": 24,
   "id": "128fda74-9a2b-4a36-a1ec-43109106155f",
   "metadata": {},
   "outputs": [
    {
     "name": "stdout",
     "output_type": "stream",
     "text": [
      "[29 30 31 32 33 34 35]\n"
     ]
    }
   ],
   "source": [
    "condition1=b2>28\n",
    "greater_than=b2[condition1]\n",
    "print(greater_than)"
   ]
  },
  {
   "cell_type": "code",
   "execution_count": 25,
   "id": "f6210b91-c624-460c-b8a8-78c5eef772a5",
   "metadata": {},
   "outputs": [],
   "source": [
    "c2=np.array([[36,37,38,39,40],[41,42,43,44,45],[46,47,48,49,50]])"
   ]
  },
  {
   "cell_type": "code",
   "execution_count": 30,
   "id": "29c99b41-f43c-467c-8762-e07bf71fc3fc",
   "metadata": {},
   "outputs": [
    {
     "name": "stdout",
     "output_type": "stream",
     "text": [
      "[[11 12 13 14 15 21 22 23 24 25 36 37 38 39 40]\n",
      " [16 17 18 19 20 26 27 28 29 30 41 42 43 44 45]\n",
      " [55 56 57 58 59 31 32 33 34 35 46 47 48 49 50]]\n"
     ]
    }
   ],
   "source": [
    "conca_x=np.concatenate((a2,b2,c2),axis=1)\n",
    "print(conca_x)"
   ]
  },
  {
   "cell_type": "code",
   "execution_count": 31,
   "id": "7de674e9-dd25-4b9c-b820-90dd4f43e6ca",
   "metadata": {},
   "outputs": [
    {
     "name": "stdout",
     "output_type": "stream",
     "text": [
      "[[11 12 13 14 15]\n",
      " [16 17 18 19 20]\n",
      " [55 56 57 58 59]\n",
      " [21 22 23 24 25]\n",
      " [26 27 28 29 30]\n",
      " [31 32 33 34 35]\n",
      " [36 37 38 39 40]\n",
      " [41 42 43 44 45]\n",
      " [46 47 48 49 50]]\n"
     ]
    }
   ],
   "source": [
    "conca_y=np.concatenate((a2,b2,c2),axis=0)\n",
    "print(conca_y)"
   ]
  },
  {
   "cell_type": "code",
   "execution_count": null,
   "id": "5e6ccb37-8505-4d68-8e0d-f19a44c95682",
   "metadata": {},
   "outputs": [],
   "source": []
  }
 ],
 "metadata": {
  "kernelspec": {
   "display_name": "Python 3 (ipykernel)",
   "language": "python",
   "name": "python3"
  },
  "language_info": {
   "codemirror_mode": {
    "name": "ipython",
    "version": 3
   },
   "file_extension": ".py",
   "mimetype": "text/x-python",
   "name": "python",
   "nbconvert_exporter": "python",
   "pygments_lexer": "ipython3",
   "version": "3.12.7"
  }
 },
 "nbformat": 4,
 "nbformat_minor": 5
}
